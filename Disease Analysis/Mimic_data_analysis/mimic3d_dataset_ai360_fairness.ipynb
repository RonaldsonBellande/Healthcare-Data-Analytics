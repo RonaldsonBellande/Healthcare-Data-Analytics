{
 "metadata": {
  "language_info": {
   "codemirror_mode": {
    "name": "ipython",
    "version": 3
   },
   "file_extension": ".py",
   "mimetype": "text/x-python",
   "name": "python",
   "nbconvert_exporter": "python",
   "pygments_lexer": "ipython3",
   "version": "3.8.5-final"
  },
  "orig_nbformat": 2,
  "kernelspec": {
   "name": "python3",
   "display_name": "Python 3"
  }
 },
 "nbformat": 4,
 "nbformat_minor": 2,
 "cells": [
  {
   "cell_type": "code",
   "execution_count": 13,
   "metadata": {},
   "outputs": [],
   "source": [
    "import sys\n",
    "sys.path.insert(1, \"../\")  \n",
    "\n",
    "import numpy as np\n",
    "np.random.seed(0)\n",
    "import pandas as pd\n",
    "\n",
    "from aif360.datasets import GermanDataset\n",
    "from aif360.metrics import BinaryLabelDatasetMetric\n",
    "from aif360.algorithms.preprocessing import Reweighing\n",
    "\n",
    "from IPython.display import Markdown, display"
   ]
  },
  {
   "cell_type": "code",
   "execution_count": 16,
   "metadata": {},
   "outputs": [],
   "source": [
    "mimic_data = pd.read_csv('mimic3d.csv')\n",
    "data_full = mimic_data.drop('ethnicity', 1)\n",
    "data_full = data_full.drop('age', 1)\n",
    "data_full = data_full.drop('gender', 1)\n",
    "gender = mimic_data['gender'][:]\n",
    "ethnicity = mimic_data['ethnicity'][:]\n",
    "age = mimic_data['age'][:]"
   ]
  },
  {
   "cell_type": "code",
   "execution_count": 17,
   "metadata": {},
   "outputs": [],
   "source": [
    "Z = pd.merge(gender, ethnicity, right_index=True, left_index=True)\n",
    "Z = Z.assign(ethnicity=lambda df:(df['ethnicity'] == 'WHITE').astype(int))\n",
    "Z = Z.assign(gender=lambda df:(df['gender'] == 'F').astype(int))"
   ]
  },
  {
   "cell_type": "code",
   "execution_count": 18,
   "metadata": {},
   "outputs": [],
   "source": [
    "for i in range(age.size):\n",
    "    if (age[i] < 65):\n",
    "        age[i] = 1\n",
    "    if (age[i] >= 65):\n",
    "        age[i] = 0\n",
    "y = age"
   ]
  },
  {
   "cell_type": "code",
   "execution_count": 19,
   "metadata": {},
   "outputs": [
    {
     "output_type": "execute_result",
     "data": {
      "text/plain": [
       "   hadm_id  LOSdays admit_type             admit_location insurance  \\\n",
       "0   100001     6.17  EMERGENCY  CLINIC REFERRAL/PREMATURE   Private   \n",
       "1   100003     4.04  EMERGENCY       EMERGENCY ROOM ADMIT   Private   \n",
       "2   100006    12.04  EMERGENCY       EMERGENCY ROOM ADMIT   Private   \n",
       "3   100007     7.29  EMERGENCY       EMERGENCY ROOM ADMIT   Private   \n",
       "4   100009     4.88  EMERGENCY  TRANSFER FROM HOSP/EXTRAM   Private   \n",
       "\n",
       "  marital_status  NumCallouts  NumDiagnosis  NumProcs  NumCPTevents  ...  \\\n",
       "0       DIVORCED         0.16          2.59      0.00          1.30  ...   \n",
       "1         SINGLE         0.25          2.23      0.99          1.98  ...   \n",
       "2         SINGLE         0.00          0.75      0.17          0.83  ...   \n",
       "3        MARRIED         0.41          0.69      0.27          0.69  ...   \n",
       "4        MARRIED         0.00          3.69      0.82          2.25  ...   \n",
       "\n",
       "   NumLabs  NumMicroLabs  NumNotes  NumOutput  NumRx  NumProcEvents  \\\n",
       "0    43.44          0.65      0.05       5.19  14.91           1.13   \n",
       "1    55.94          1.24      1.59       5.45   7.18           0.99   \n",
       "2    33.39          0.33      0.15       4.15   6.23           0.00   \n",
       "3    32.24          0.69      0.17       9.05  11.52           0.00   \n",
       "4    50.61          0.61      0.34      16.19  25.00           2.87   \n",
       "\n",
       "   NumTransfers  NumChartEvents  ExpiredHospital  TotalNumInteract  \n",
       "0          0.65          398.70                0            493.89  \n",
       "1          1.24          373.02                0            465.71  \n",
       "2          0.33          286.21                0            344.00  \n",
       "3          0.96          526.06                0            603.05  \n",
       "4          2.05          554.92                0            679.84  \n",
       "\n",
       "[5 rows x 21 columns]"
      ],
      "text/html": "<div>\n<style scoped>\n    .dataframe tbody tr th:only-of-type {\n        vertical-align: middle;\n    }\n\n    .dataframe tbody tr th {\n        vertical-align: top;\n    }\n\n    .dataframe thead th {\n        text-align: right;\n    }\n</style>\n<table border=\"1\" class=\"dataframe\">\n  <thead>\n    <tr style=\"text-align: right;\">\n      <th></th>\n      <th>hadm_id</th>\n      <th>LOSdays</th>\n      <th>admit_type</th>\n      <th>admit_location</th>\n      <th>insurance</th>\n      <th>marital_status</th>\n      <th>NumCallouts</th>\n      <th>NumDiagnosis</th>\n      <th>NumProcs</th>\n      <th>NumCPTevents</th>\n      <th>...</th>\n      <th>NumLabs</th>\n      <th>NumMicroLabs</th>\n      <th>NumNotes</th>\n      <th>NumOutput</th>\n      <th>NumRx</th>\n      <th>NumProcEvents</th>\n      <th>NumTransfers</th>\n      <th>NumChartEvents</th>\n      <th>ExpiredHospital</th>\n      <th>TotalNumInteract</th>\n    </tr>\n  </thead>\n  <tbody>\n    <tr>\n      <th>0</th>\n      <td>100001</td>\n      <td>6.17</td>\n      <td>EMERGENCY</td>\n      <td>CLINIC REFERRAL/PREMATURE</td>\n      <td>Private</td>\n      <td>DIVORCED</td>\n      <td>0.16</td>\n      <td>2.59</td>\n      <td>0.00</td>\n      <td>1.30</td>\n      <td>...</td>\n      <td>43.44</td>\n      <td>0.65</td>\n      <td>0.05</td>\n      <td>5.19</td>\n      <td>14.91</td>\n      <td>1.13</td>\n      <td>0.65</td>\n      <td>398.70</td>\n      <td>0</td>\n      <td>493.89</td>\n    </tr>\n    <tr>\n      <th>1</th>\n      <td>100003</td>\n      <td>4.04</td>\n      <td>EMERGENCY</td>\n      <td>EMERGENCY ROOM ADMIT</td>\n      <td>Private</td>\n      <td>SINGLE</td>\n      <td>0.25</td>\n      <td>2.23</td>\n      <td>0.99</td>\n      <td>1.98</td>\n      <td>...</td>\n      <td>55.94</td>\n      <td>1.24</td>\n      <td>1.59</td>\n      <td>5.45</td>\n      <td>7.18</td>\n      <td>0.99</td>\n      <td>1.24</td>\n      <td>373.02</td>\n      <td>0</td>\n      <td>465.71</td>\n    </tr>\n    <tr>\n      <th>2</th>\n      <td>100006</td>\n      <td>12.04</td>\n      <td>EMERGENCY</td>\n      <td>EMERGENCY ROOM ADMIT</td>\n      <td>Private</td>\n      <td>SINGLE</td>\n      <td>0.00</td>\n      <td>0.75</td>\n      <td>0.17</td>\n      <td>0.83</td>\n      <td>...</td>\n      <td>33.39</td>\n      <td>0.33</td>\n      <td>0.15</td>\n      <td>4.15</td>\n      <td>6.23</td>\n      <td>0.00</td>\n      <td>0.33</td>\n      <td>286.21</td>\n      <td>0</td>\n      <td>344.00</td>\n    </tr>\n    <tr>\n      <th>3</th>\n      <td>100007</td>\n      <td>7.29</td>\n      <td>EMERGENCY</td>\n      <td>EMERGENCY ROOM ADMIT</td>\n      <td>Private</td>\n      <td>MARRIED</td>\n      <td>0.41</td>\n      <td>0.69</td>\n      <td>0.27</td>\n      <td>0.69</td>\n      <td>...</td>\n      <td>32.24</td>\n      <td>0.69</td>\n      <td>0.17</td>\n      <td>9.05</td>\n      <td>11.52</td>\n      <td>0.00</td>\n      <td>0.96</td>\n      <td>526.06</td>\n      <td>0</td>\n      <td>603.05</td>\n    </tr>\n    <tr>\n      <th>4</th>\n      <td>100009</td>\n      <td>4.88</td>\n      <td>EMERGENCY</td>\n      <td>TRANSFER FROM HOSP/EXTRAM</td>\n      <td>Private</td>\n      <td>MARRIED</td>\n      <td>0.00</td>\n      <td>3.69</td>\n      <td>0.82</td>\n      <td>2.25</td>\n      <td>...</td>\n      <td>50.61</td>\n      <td>0.61</td>\n      <td>0.34</td>\n      <td>16.19</td>\n      <td>25.00</td>\n      <td>2.87</td>\n      <td>2.05</td>\n      <td>554.92</td>\n      <td>0</td>\n      <td>679.84</td>\n    </tr>\n  </tbody>\n</table>\n<p>5 rows × 21 columns</p>\n</div>"
     },
     "metadata": {},
     "execution_count": 19
    }
   ],
   "source": [
    "X = data_full.drop('LOSgroupNum', 1)\n",
    "X = X.drop('religion', 1)\n",
    "X = X.drop('AdmitProcedure', 1)\n",
    "X = X.drop('AdmitDiagnosis', 1)\n",
    "\n",
    "X.head()"
   ]
  },
  {
   "cell_type": "code",
   "execution_count": 20,
   "metadata": {},
   "outputs": [
    {
     "output_type": "execute_result",
     "data": {
      "text/plain": [
       "       hadm_id  LOSdays  NumCallouts  NumDiagnosis  NumProcs  NumCPTevents  \\\n",
       "0       100001     6.17         0.16          2.59      0.00          1.30   \n",
       "1       100003     4.04         0.25          2.23      0.99          1.98   \n",
       "2       100006    12.04         0.00          0.75      0.17          0.83   \n",
       "3       100007     7.29         0.41          0.69      0.27          0.69   \n",
       "4       100009     4.88         0.00          3.69      0.82          2.25   \n",
       "...        ...      ...          ...           ...       ...           ...   \n",
       "58971   199993    24.58         0.00          0.37      0.53          0.94   \n",
       "58972   199994     9.75         0.00          0.92      0.41          0.62   \n",
       "58973   199995    16.75         0.00          0.60      0.54          0.06   \n",
       "58974   199998     5.88         0.00          2.72      0.51          0.17   \n",
       "58975   199999     5.50         0.00          2.36      0.18          1.27   \n",
       "\n",
       "       NumInput  NumLabs  NumMicroLabs  NumNotes  ...  Medicare  Private  \\\n",
       "0         25.12    43.44          0.65      0.05  ...         0        1   \n",
       "1         13.61    55.94          1.24      1.59  ...         0        1   \n",
       "2         11.46    33.39          0.33      0.15  ...         0        1   \n",
       "3         20.30    32.24          0.69      0.17  ...         0        1   \n",
       "4         20.49    50.61          0.61      0.34  ...         0        1   \n",
       "...         ...      ...           ...       ...  ...       ...      ...   \n",
       "58971    330.92    66.56          0.20      0.13  ...         0        1   \n",
       "58972     95.18    53.03          2.26      0.30  ...         1        0   \n",
       "58973     12.66    27.28          0.54      0.10  ...         0        1   \n",
       "58974     25.85    49.83          0.17      0.35  ...         1        0   \n",
       "58975      6.73    39.82          1.64      0.40  ...         1        0   \n",
       "\n",
       "       Self Pay  DIVORCED  LIFE PARTNER  MARRIED  SEPARATED  SINGLE  \\\n",
       "0             0         1             0        0          0       0   \n",
       "1             0         0             0        0          0       1   \n",
       "2             0         0             0        0          0       1   \n",
       "3             0         0             0        1          0       0   \n",
       "4             0         0             0        1          0       0   \n",
       "...         ...       ...           ...      ...        ...     ...   \n",
       "58971         0         1             0        0          0       0   \n",
       "58972         0         0             0        0          0       1   \n",
       "58973         0         0             0        0          0       1   \n",
       "58974         0         0             0        1          0       0   \n",
       "58975         0         0             0        1          0       0   \n",
       "\n",
       "       UNKNOWN (DEFAULT)  WIDOWED  \n",
       "0                      0        0  \n",
       "1                      0        0  \n",
       "2                      0        0  \n",
       "3                      0        0  \n",
       "4                      0        0  \n",
       "...                  ...      ...  \n",
       "58971                  0        0  \n",
       "58972                  0        0  \n",
       "58973                  0        0  \n",
       "58974                  0        0  \n",
       "58975                  0        0  \n",
       "\n",
       "[58976 rows x 42 columns]"
      ],
      "text/html": "<div>\n<style scoped>\n    .dataframe tbody tr th:only-of-type {\n        vertical-align: middle;\n    }\n\n    .dataframe tbody tr th {\n        vertical-align: top;\n    }\n\n    .dataframe thead th {\n        text-align: right;\n    }\n</style>\n<table border=\"1\" class=\"dataframe\">\n  <thead>\n    <tr style=\"text-align: right;\">\n      <th></th>\n      <th>hadm_id</th>\n      <th>LOSdays</th>\n      <th>NumCallouts</th>\n      <th>NumDiagnosis</th>\n      <th>NumProcs</th>\n      <th>NumCPTevents</th>\n      <th>NumInput</th>\n      <th>NumLabs</th>\n      <th>NumMicroLabs</th>\n      <th>NumNotes</th>\n      <th>...</th>\n      <th>Medicare</th>\n      <th>Private</th>\n      <th>Self Pay</th>\n      <th>DIVORCED</th>\n      <th>LIFE PARTNER</th>\n      <th>MARRIED</th>\n      <th>SEPARATED</th>\n      <th>SINGLE</th>\n      <th>UNKNOWN (DEFAULT)</th>\n      <th>WIDOWED</th>\n    </tr>\n  </thead>\n  <tbody>\n    <tr>\n      <th>0</th>\n      <td>100001</td>\n      <td>6.17</td>\n      <td>0.16</td>\n      <td>2.59</td>\n      <td>0.00</td>\n      <td>1.30</td>\n      <td>25.12</td>\n      <td>43.44</td>\n      <td>0.65</td>\n      <td>0.05</td>\n      <td>...</td>\n      <td>0</td>\n      <td>1</td>\n      <td>0</td>\n      <td>1</td>\n      <td>0</td>\n      <td>0</td>\n      <td>0</td>\n      <td>0</td>\n      <td>0</td>\n      <td>0</td>\n    </tr>\n    <tr>\n      <th>1</th>\n      <td>100003</td>\n      <td>4.04</td>\n      <td>0.25</td>\n      <td>2.23</td>\n      <td>0.99</td>\n      <td>1.98</td>\n      <td>13.61</td>\n      <td>55.94</td>\n      <td>1.24</td>\n      <td>1.59</td>\n      <td>...</td>\n      <td>0</td>\n      <td>1</td>\n      <td>0</td>\n      <td>0</td>\n      <td>0</td>\n      <td>0</td>\n      <td>0</td>\n      <td>1</td>\n      <td>0</td>\n      <td>0</td>\n    </tr>\n    <tr>\n      <th>2</th>\n      <td>100006</td>\n      <td>12.04</td>\n      <td>0.00</td>\n      <td>0.75</td>\n      <td>0.17</td>\n      <td>0.83</td>\n      <td>11.46</td>\n      <td>33.39</td>\n      <td>0.33</td>\n      <td>0.15</td>\n      <td>...</td>\n      <td>0</td>\n      <td>1</td>\n      <td>0</td>\n      <td>0</td>\n      <td>0</td>\n      <td>0</td>\n      <td>0</td>\n      <td>1</td>\n      <td>0</td>\n      <td>0</td>\n    </tr>\n    <tr>\n      <th>3</th>\n      <td>100007</td>\n      <td>7.29</td>\n      <td>0.41</td>\n      <td>0.69</td>\n      <td>0.27</td>\n      <td>0.69</td>\n      <td>20.30</td>\n      <td>32.24</td>\n      <td>0.69</td>\n      <td>0.17</td>\n      <td>...</td>\n      <td>0</td>\n      <td>1</td>\n      <td>0</td>\n      <td>0</td>\n      <td>0</td>\n      <td>1</td>\n      <td>0</td>\n      <td>0</td>\n      <td>0</td>\n      <td>0</td>\n    </tr>\n    <tr>\n      <th>4</th>\n      <td>100009</td>\n      <td>4.88</td>\n      <td>0.00</td>\n      <td>3.69</td>\n      <td>0.82</td>\n      <td>2.25</td>\n      <td>20.49</td>\n      <td>50.61</td>\n      <td>0.61</td>\n      <td>0.34</td>\n      <td>...</td>\n      <td>0</td>\n      <td>1</td>\n      <td>0</td>\n      <td>0</td>\n      <td>0</td>\n      <td>1</td>\n      <td>0</td>\n      <td>0</td>\n      <td>0</td>\n      <td>0</td>\n    </tr>\n    <tr>\n      <th>...</th>\n      <td>...</td>\n      <td>...</td>\n      <td>...</td>\n      <td>...</td>\n      <td>...</td>\n      <td>...</td>\n      <td>...</td>\n      <td>...</td>\n      <td>...</td>\n      <td>...</td>\n      <td>...</td>\n      <td>...</td>\n      <td>...</td>\n      <td>...</td>\n      <td>...</td>\n      <td>...</td>\n      <td>...</td>\n      <td>...</td>\n      <td>...</td>\n      <td>...</td>\n      <td>...</td>\n    </tr>\n    <tr>\n      <th>58971</th>\n      <td>199993</td>\n      <td>24.58</td>\n      <td>0.00</td>\n      <td>0.37</td>\n      <td>0.53</td>\n      <td>0.94</td>\n      <td>330.92</td>\n      <td>66.56</td>\n      <td>0.20</td>\n      <td>0.13</td>\n      <td>...</td>\n      <td>0</td>\n      <td>1</td>\n      <td>0</td>\n      <td>1</td>\n      <td>0</td>\n      <td>0</td>\n      <td>0</td>\n      <td>0</td>\n      <td>0</td>\n      <td>0</td>\n    </tr>\n    <tr>\n      <th>58972</th>\n      <td>199994</td>\n      <td>9.75</td>\n      <td>0.00</td>\n      <td>0.92</td>\n      <td>0.41</td>\n      <td>0.62</td>\n      <td>95.18</td>\n      <td>53.03</td>\n      <td>2.26</td>\n      <td>0.30</td>\n      <td>...</td>\n      <td>1</td>\n      <td>0</td>\n      <td>0</td>\n      <td>0</td>\n      <td>0</td>\n      <td>0</td>\n      <td>0</td>\n      <td>1</td>\n      <td>0</td>\n      <td>0</td>\n    </tr>\n    <tr>\n      <th>58973</th>\n      <td>199995</td>\n      <td>16.75</td>\n      <td>0.00</td>\n      <td>0.60</td>\n      <td>0.54</td>\n      <td>0.06</td>\n      <td>12.66</td>\n      <td>27.28</td>\n      <td>0.54</td>\n      <td>0.10</td>\n      <td>...</td>\n      <td>0</td>\n      <td>1</td>\n      <td>0</td>\n      <td>0</td>\n      <td>0</td>\n      <td>0</td>\n      <td>0</td>\n      <td>1</td>\n      <td>0</td>\n      <td>0</td>\n    </tr>\n    <tr>\n      <th>58974</th>\n      <td>199998</td>\n      <td>5.88</td>\n      <td>0.00</td>\n      <td>2.72</td>\n      <td>0.51</td>\n      <td>0.17</td>\n      <td>25.85</td>\n      <td>49.83</td>\n      <td>0.17</td>\n      <td>0.35</td>\n      <td>...</td>\n      <td>1</td>\n      <td>0</td>\n      <td>0</td>\n      <td>0</td>\n      <td>0</td>\n      <td>1</td>\n      <td>0</td>\n      <td>0</td>\n      <td>0</td>\n      <td>0</td>\n    </tr>\n    <tr>\n      <th>58975</th>\n      <td>199999</td>\n      <td>5.50</td>\n      <td>0.00</td>\n      <td>2.36</td>\n      <td>0.18</td>\n      <td>1.27</td>\n      <td>6.73</td>\n      <td>39.82</td>\n      <td>1.64</td>\n      <td>0.40</td>\n      <td>...</td>\n      <td>1</td>\n      <td>0</td>\n      <td>0</td>\n      <td>0</td>\n      <td>0</td>\n      <td>1</td>\n      <td>0</td>\n      <td>0</td>\n      <td>0</td>\n      <td>0</td>\n    </tr>\n  </tbody>\n</table>\n<p>58976 rows × 42 columns</p>\n</div>"
     },
     "metadata": {},
     "execution_count": 20
    }
   ],
   "source": [
    "categorical_columns = [\n",
    "                    'admit_type',\n",
    "                    'admit_location',\n",
    "                    'insurance',\n",
    "                    'marital_status'\n",
    "                      ]\n",
    "for col in categorical_columns:\n",
    "    if col in X.columns:\n",
    "        one_hot_encoded = pd.get_dummies(X[col])\n",
    "        X = X.drop(col, axis=1)\n",
    "        X = X.join(one_hot_encoded, lsuffix='_left', rsuffix='_right')\n",
    "        \n",
    "X"
   ]
  },
  {
   "cell_type": "code",
   "execution_count": 25,
   "metadata": {},
   "outputs": [],
   "source": [
    "X = X.values"
   ]
  },
  {
   "cell_type": "code",
   "execution_count": 26,
   "metadata": {},
   "outputs": [
    {
     "output_type": "execute_result",
     "data": {
      "text/plain": [
       "array([[1.00001e+05, 6.17000e+00, 1.60000e-01, ..., 0.00000e+00,\n",
       "        0.00000e+00, 0.00000e+00],\n",
       "       [1.00003e+05, 4.04000e+00, 2.50000e-01, ..., 1.00000e+00,\n",
       "        0.00000e+00, 0.00000e+00],\n",
       "       [1.00006e+05, 1.20400e+01, 0.00000e+00, ..., 1.00000e+00,\n",
       "        0.00000e+00, 0.00000e+00],\n",
       "       ...,\n",
       "       [1.99995e+05, 1.67500e+01, 0.00000e+00, ..., 1.00000e+00,\n",
       "        0.00000e+00, 0.00000e+00],\n",
       "       [1.99998e+05, 5.88000e+00, 0.00000e+00, ..., 0.00000e+00,\n",
       "        0.00000e+00, 0.00000e+00],\n",
       "       [1.99999e+05, 5.50000e+00, 0.00000e+00, ..., 0.00000e+00,\n",
       "        0.00000e+00, 0.00000e+00]])"
      ]
     },
     "metadata": {},
     "execution_count": 26
    }
   ],
   "source": [
    "X"
   ]
  },
  {
   "cell_type": "code",
   "execution_count": 35,
   "metadata": {},
   "outputs": [],
   "source": [
    "dataset_orig_train, dataset_orig_test = np.array_split(X,2)\n",
    "\n",
    "privileged_groups = [1]\n",
    "unprivileged_groups = [0]"
   ]
  },
  {
   "cell_type": "code",
   "execution_count": 45,
   "metadata": {},
   "outputs": [
    {
     "output_type": "stream",
     "name": "stdout",
     "text": [
      "<aif360.algorithms.preprocessing.reweighing.Reweighing object at 0x7fdba25a0eb0>\n"
     ]
    },
    {
     "output_type": "error",
     "ename": "AttributeError",
     "evalue": "'list' object has no attribute 'protected_attributes'",
     "traceback": [
      "\u001b[0;31m---------------------------------------------------------------------------\u001b[0m",
      "\u001b[0;31mAttributeError\u001b[0m                            Traceback (most recent call last)",
      "\u001b[0;32m<ipython-input-45-aa01fdea673a>\u001b[0m in \u001b[0;36m<module>\u001b[0;34m\u001b[0m\n\u001b[1;32m      2\u001b[0m                 privileged_groups=privileged_groups)\n\u001b[1;32m      3\u001b[0m \u001b[0mprint\u001b[0m\u001b[0;34m(\u001b[0m\u001b[0mRW\u001b[0m\u001b[0;34m)\u001b[0m\u001b[0;34m\u001b[0m\u001b[0;34m\u001b[0m\u001b[0m\n\u001b[0;32m----> 4\u001b[0;31m \u001b[0mdataset_transf_train\u001b[0m \u001b[0;34m=\u001b[0m \u001b[0mRW\u001b[0m\u001b[0;34m.\u001b[0m\u001b[0mfit_transform\u001b[0m\u001b[0;34m(\u001b[0m\u001b[0mdataset_orig_train\u001b[0m\u001b[0;34m.\u001b[0m\u001b[0mtolist\u001b[0m\u001b[0;34m(\u001b[0m\u001b[0;34m)\u001b[0m\u001b[0;34m)\u001b[0m\u001b[0;34m\u001b[0m\u001b[0;34m\u001b[0m\u001b[0m\n\u001b[0m",
      "\u001b[0;32m~/.local/lib/python3.8/site-packages/aif360/algorithms/transformer.py\u001b[0m in \u001b[0;36mwrapper\u001b[0;34m(self, *args, **kwargs)\u001b[0m\n\u001b[1;32m     25\u001b[0m     \u001b[0;34m@\u001b[0m\u001b[0mwraps\u001b[0m\u001b[0;34m(\u001b[0m\u001b[0mfunc\u001b[0m\u001b[0;34m)\u001b[0m\u001b[0;34m\u001b[0m\u001b[0;34m\u001b[0m\u001b[0m\n\u001b[1;32m     26\u001b[0m     \u001b[0;32mdef\u001b[0m \u001b[0mwrapper\u001b[0m\u001b[0;34m(\u001b[0m\u001b[0mself\u001b[0m\u001b[0;34m,\u001b[0m \u001b[0;34m*\u001b[0m\u001b[0margs\u001b[0m\u001b[0;34m,\u001b[0m \u001b[0;34m**\u001b[0m\u001b[0mkwargs\u001b[0m\u001b[0;34m)\u001b[0m\u001b[0;34m:\u001b[0m\u001b[0;34m\u001b[0m\u001b[0;34m\u001b[0m\u001b[0m\n\u001b[0;32m---> 27\u001b[0;31m         \u001b[0mnew_dataset\u001b[0m \u001b[0;34m=\u001b[0m \u001b[0mfunc\u001b[0m\u001b[0;34m(\u001b[0m\u001b[0mself\u001b[0m\u001b[0;34m,\u001b[0m \u001b[0;34m*\u001b[0m\u001b[0margs\u001b[0m\u001b[0;34m,\u001b[0m \u001b[0;34m**\u001b[0m\u001b[0mkwargs\u001b[0m\u001b[0;34m)\u001b[0m\u001b[0;34m\u001b[0m\u001b[0;34m\u001b[0m\u001b[0m\n\u001b[0m\u001b[1;32m     28\u001b[0m         \u001b[0;32mif\u001b[0m \u001b[0misinstance\u001b[0m\u001b[0;34m(\u001b[0m\u001b[0mnew_dataset\u001b[0m\u001b[0;34m,\u001b[0m \u001b[0mDataset\u001b[0m\u001b[0;34m)\u001b[0m\u001b[0;34m:\u001b[0m\u001b[0;34m\u001b[0m\u001b[0;34m\u001b[0m\u001b[0m\n\u001b[1;32m     29\u001b[0m             \u001b[0mnew_dataset\u001b[0m\u001b[0;34m.\u001b[0m\u001b[0mmetadata\u001b[0m \u001b[0;34m=\u001b[0m \u001b[0mnew_dataset\u001b[0m\u001b[0;34m.\u001b[0m\u001b[0mmetadata\u001b[0m\u001b[0;34m.\u001b[0m\u001b[0mcopy\u001b[0m\u001b[0;34m(\u001b[0m\u001b[0;34m)\u001b[0m\u001b[0;34m\u001b[0m\u001b[0;34m\u001b[0m\u001b[0m\n",
      "\u001b[0;32m~/.local/lib/python3.8/site-packages/aif360/algorithms/transformer.py\u001b[0m in \u001b[0;36mfit_transform\u001b[0;34m(self, dataset)\u001b[0m\n\u001b[1;32m    123\u001b[0m             \u001b[0mthis\u001b[0m \u001b[0mtransformation\u001b[0m\u001b[0;34m.\u001b[0m\u001b[0;34m\u001b[0m\u001b[0;34m\u001b[0m\u001b[0m\n\u001b[1;32m    124\u001b[0m         \"\"\"\n\u001b[0;32m--> 125\u001b[0;31m         \u001b[0;32mreturn\u001b[0m \u001b[0mself\u001b[0m\u001b[0;34m.\u001b[0m\u001b[0mfit\u001b[0m\u001b[0;34m(\u001b[0m\u001b[0mdataset\u001b[0m\u001b[0;34m)\u001b[0m\u001b[0;34m.\u001b[0m\u001b[0mtransform\u001b[0m\u001b[0;34m(\u001b[0m\u001b[0mdataset\u001b[0m\u001b[0;34m)\u001b[0m\u001b[0;34m\u001b[0m\u001b[0;34m\u001b[0m\u001b[0m\n\u001b[0m",
      "\u001b[0;32m~/.local/lib/python3.8/site-packages/aif360/algorithms/transformer.py\u001b[0m in \u001b[0;36mwrapper\u001b[0;34m(self, *args, **kwargs)\u001b[0m\n\u001b[1;32m     25\u001b[0m     \u001b[0;34m@\u001b[0m\u001b[0mwraps\u001b[0m\u001b[0;34m(\u001b[0m\u001b[0mfunc\u001b[0m\u001b[0;34m)\u001b[0m\u001b[0;34m\u001b[0m\u001b[0;34m\u001b[0m\u001b[0m\n\u001b[1;32m     26\u001b[0m     \u001b[0;32mdef\u001b[0m \u001b[0mwrapper\u001b[0m\u001b[0;34m(\u001b[0m\u001b[0mself\u001b[0m\u001b[0;34m,\u001b[0m \u001b[0;34m*\u001b[0m\u001b[0margs\u001b[0m\u001b[0;34m,\u001b[0m \u001b[0;34m**\u001b[0m\u001b[0mkwargs\u001b[0m\u001b[0;34m)\u001b[0m\u001b[0;34m:\u001b[0m\u001b[0;34m\u001b[0m\u001b[0;34m\u001b[0m\u001b[0m\n\u001b[0;32m---> 27\u001b[0;31m         \u001b[0mnew_dataset\u001b[0m \u001b[0;34m=\u001b[0m \u001b[0mfunc\u001b[0m\u001b[0;34m(\u001b[0m\u001b[0mself\u001b[0m\u001b[0;34m,\u001b[0m \u001b[0;34m*\u001b[0m\u001b[0margs\u001b[0m\u001b[0;34m,\u001b[0m \u001b[0;34m**\u001b[0m\u001b[0mkwargs\u001b[0m\u001b[0;34m)\u001b[0m\u001b[0;34m\u001b[0m\u001b[0;34m\u001b[0m\u001b[0m\n\u001b[0m\u001b[1;32m     28\u001b[0m         \u001b[0;32mif\u001b[0m \u001b[0misinstance\u001b[0m\u001b[0;34m(\u001b[0m\u001b[0mnew_dataset\u001b[0m\u001b[0;34m,\u001b[0m \u001b[0mDataset\u001b[0m\u001b[0;34m)\u001b[0m\u001b[0;34m:\u001b[0m\u001b[0;34m\u001b[0m\u001b[0;34m\u001b[0m\u001b[0m\n\u001b[1;32m     29\u001b[0m             \u001b[0mnew_dataset\u001b[0m\u001b[0;34m.\u001b[0m\u001b[0mmetadata\u001b[0m \u001b[0;34m=\u001b[0m \u001b[0mnew_dataset\u001b[0m\u001b[0;34m.\u001b[0m\u001b[0mmetadata\u001b[0m\u001b[0;34m.\u001b[0m\u001b[0mcopy\u001b[0m\u001b[0;34m(\u001b[0m\u001b[0;34m)\u001b[0m\u001b[0;34m\u001b[0m\u001b[0;34m\u001b[0m\u001b[0m\n",
      "\u001b[0;32m~/.local/lib/python3.8/site-packages/aif360/algorithms/preprocessing/reweighing.py\u001b[0m in \u001b[0;36mfit\u001b[0;34m(self, dataset)\u001b[0m\n\u001b[1;32m     47\u001b[0m         (priv_cond, unpriv_cond, fav_cond, unfav_cond,\n\u001b[1;32m     48\u001b[0m         cond_p_fav, cond_p_unfav, cond_up_fav, cond_up_unfav) =\\\n\u001b[0;32m---> 49\u001b[0;31m                 \u001b[0mself\u001b[0m\u001b[0;34m.\u001b[0m\u001b[0m_obtain_conditionings\u001b[0m\u001b[0;34m(\u001b[0m\u001b[0mdataset\u001b[0m\u001b[0;34m)\u001b[0m\u001b[0;34m\u001b[0m\u001b[0;34m\u001b[0m\u001b[0m\n\u001b[0m\u001b[1;32m     50\u001b[0m \u001b[0;34m\u001b[0m\u001b[0m\n\u001b[1;32m     51\u001b[0m         \u001b[0mn\u001b[0m \u001b[0;34m=\u001b[0m \u001b[0mnp\u001b[0m\u001b[0;34m.\u001b[0m\u001b[0msum\u001b[0m\u001b[0;34m(\u001b[0m\u001b[0mdataset\u001b[0m\u001b[0;34m.\u001b[0m\u001b[0minstance_weights\u001b[0m\u001b[0;34m,\u001b[0m \u001b[0mdtype\u001b[0m\u001b[0;34m=\u001b[0m\u001b[0mnp\u001b[0m\u001b[0;34m.\u001b[0m\u001b[0mfloat64\u001b[0m\u001b[0;34m)\u001b[0m\u001b[0;34m\u001b[0m\u001b[0;34m\u001b[0m\u001b[0m\n",
      "\u001b[0;32m~/.local/lib/python3.8/site-packages/aif360/algorithms/preprocessing/reweighing.py\u001b[0m in \u001b[0;36m_obtain_conditionings\u001b[0;34m(self, dataset)\u001b[0m\n\u001b[1;32m    104\u001b[0m         \u001b[0;31m# conditioning\u001b[0m\u001b[0;34m\u001b[0m\u001b[0;34m\u001b[0m\u001b[0;34m\u001b[0m\u001b[0m\n\u001b[1;32m    105\u001b[0m         priv_cond = utils.compute_boolean_conditioning_vector(\n\u001b[0;32m--> 106\u001b[0;31m                             \u001b[0mdataset\u001b[0m\u001b[0;34m.\u001b[0m\u001b[0mprotected_attributes\u001b[0m\u001b[0;34m,\u001b[0m\u001b[0;34m\u001b[0m\u001b[0;34m\u001b[0m\u001b[0m\n\u001b[0m\u001b[1;32m    107\u001b[0m                             \u001b[0mdataset\u001b[0m\u001b[0;34m.\u001b[0m\u001b[0mprotected_attribute_names\u001b[0m\u001b[0;34m,\u001b[0m\u001b[0;34m\u001b[0m\u001b[0;34m\u001b[0m\u001b[0m\n\u001b[1;32m    108\u001b[0m                             condition=self.privileged_groups)\n",
      "\u001b[0;31mAttributeError\u001b[0m: 'list' object has no attribute 'protected_attributes'"
     ]
    }
   ],
   "source": [
    "RW = Reweighing(unprivileged_groups=unprivileged_groups,\n",
    "                privileged_groups=privileged_groups)\n",
    "print(RW)\n",
    "dataset_transf_train = RW.fit_transform(dataset_orig_train.tolist())"
   ]
  },
  {
   "cell_type": "code",
   "execution_count": null,
   "metadata": {},
   "outputs": [],
   "source": [
    "metric_transf_train = BinaryLabelDatasetMetric(dataset_transf_train, \n",
    "                                               unprivileged_groups=unprivileged_groups,\n",
    "                                               privileged_groups=privileged_groups)\n",
    "display(Markdown(\"#### Transformed training dataset\"))\n",
    "print(\"Difference in mean outcomes between unprivileged and privileged groups = %f\" % metric_transf_train.mean_difference())"
   ]
  }
 ]
}